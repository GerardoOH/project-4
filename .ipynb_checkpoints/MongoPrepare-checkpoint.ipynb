{
 "cells": [
  {
   "cell_type": "code",
   "execution_count": 9,
   "id": "9b253506-8ed1-4d89-b298-689bd78d43dd",
   "metadata": {},
   "outputs": [],
   "source": [
    "import pandas as pd\n",
    "from pymongo import MongoClient\n",
    "\n",
    "# Leer los archivos CSV\n",
    "checkin_checkout_data = pd.read_csv(\"Raw_data/checkin_checkout_history_updated.csv\")\n",
    "gym_locations_data = pd.read_csv(r\"Raw_data/gym_locations_data.csv\")\n",
    "subscription_plans_data = pd.read_csv(r\"Raw_data/subscription_plans.csv\")\n",
    "user_data = pd.read_csv(r\"Raw_data/users_data.csv\")\n",
    "\n",
    "# Conectar a la base de datos MongoDB\n",
    "client = MongoClient('mongodb://localhost:27017/')\n",
    "db = client['gym_management']\n",
    "\n"
   ]
  },
  {
   "cell_type": "code",
   "execution_count": 10,
   "id": "c8963f72-d664-4f03-a660-145e935280e6",
   "metadata": {},
   "outputs": [],
   "source": [
    "# Convertir los DataFrames a listas de diccionarios\n",
    "checkin_checkout_dict = checkin_checkout_data.to_dict(orient='records')\n",
    "gym_locations_dict = gym_locations_data.to_dict(orient='records')\n",
    "subscription_plans_dict = subscription_plans_data.to_dict(orient='records')\n",
    "user_data_dict = user_data.to_dict(orient='records')\n"
   ]
  },
  {
   "cell_type": "code",
   "execution_count": 11,
   "id": "53964cf5-c4a9-49c3-ba6a-c6f4f63f0020",
   "metadata": {},
   "outputs": [
    {
     "name": "stdout",
     "output_type": "stream",
     "text": [
      "Datos insertados exitosamente.\n"
     ]
    }
   ],
   "source": [
    "# Insertar datos en las colecciones correspondientes\n",
    "db.checkin_checkout_history_update.insert_many(checkin_checkout_dict)\n",
    "db.gym_locations_data.insert_many(gym_locations_dict)\n",
    "db.subscription_plans.insert_many(subscription_plans_dict)\n",
    "db.users_data.insert_many(user_data_dict)\n",
    "\n",
    "print(\"Datos insertados exitosamente.\")\n"
   ]
  },
  {
   "cell_type": "code",
   "execution_count": 2,
   "id": "664b840f-12f7-49c2-83ba-a253817f60fa",
   "metadata": {},
   "outputs": [],
   "source": [
    "# checkin_checkout_history_update = [\n",
    "#     {\n",
    "#         \"user_id\": \"user_3291\",\n",
    "#         \"gym_id\": \"gym_6\",\n",
    "#         \"checkin_time\": \"2023-10-09 15:55:00\",\n",
    "#         \"checkout_time\": \"2023-10-09 16:34:00\",\n",
    "#         \"workout_type\": \"Weightlifting\",\n",
    "#         \"calories_burned\": 462\n",
    "#     }\n",
    "#     # Agrega más documentos si es necesario\n",
    "# ]\n"
   ]
  },
  {
   "cell_type": "code",
   "execution_count": 3,
   "id": "cf6c21f0-94d8-429f-a5f5-a356ace43f79",
   "metadata": {},
   "outputs": [],
   "source": [
    "# subscription_plans = [\n",
    "#     {\n",
    "#         \"subscription_plan\": \"Basic\",\n",
    "#         \"price_per_month\": 19.99,\n",
    "#         \"features\": \"Access to basic gym facilities, Limited class access, 1 guest pass per month\"\n",
    "#     }\n",
    "#     # Agrega más documentos si es necesario\n",
    "# ]\n"
   ]
  },
  {
   "cell_type": "code",
   "execution_count": 4,
   "id": "ea61038e-ed46-4959-a244-7b9c2afb8c02",
   "metadata": {},
   "outputs": [],
   "source": [
    "# users_data = [\n",
    "#     {\n",
    "#         \"user_id\": \"user_1\",\n",
    "#         \"first_name\": \"Chris\",\n",
    "#         \"last_name\": \"Wilson\",\n",
    "#         \"age\": 56,\n",
    "#         \"gender\": \"Female\",\n",
    "#         \"birthdate\": \"2000-02-29\",\n",
    "#         \"sign_up_date\": \"2023-02-06\",\n",
    "#         \"user_location\": \"Denver\",\n",
    "#         \"subscription_plan\": \"Basic\"\n",
    "#     }\n",
    "#     # Agrega más documentos si es necesario\n",
    "# ]\n"
   ]
  },
  {
   "cell_type": "code",
   "execution_count": 5,
   "id": "98db7735-a9ee-4185-b2b7-c245ae2ffa1f",
   "metadata": {},
   "outputs": [],
   "source": [
    "# gym_locations_data = [\n",
    "#     {\n",
    "#         \"gym_id\": \"gym_1\",\n",
    "#         \"location\": \"New York\",\n",
    "#         \"gym_type\": \"Premium\",\n",
    "#         \"facilities\": \"Climbing Wall, Swimming Pool, Basketball Court\"\n",
    "#     }\n",
    "#     # Agrega más documentos si es necesario\n",
    "# ]\n"
   ]
  },
  {
   "cell_type": "code",
   "execution_count": 6,
   "id": "2ec320ea-8e42-42cb-acb4-7960a5607489",
   "metadata": {},
   "outputs": [
    {
     "data": {
      "text/plain": [
       "InsertManyResult([ObjectId('673590360a045f9e58af6e80')], acknowledged=True)"
      ]
     },
     "execution_count": 6,
     "metadata": {},
     "output_type": "execute_result"
    }
   ],
   "source": [
    "# # Insertar datos en las colecciones correspondientes\n",
    "# db.checkin_checkout_history_update.insert_many(checkin_checkout_history_update)\n",
    "# db.subscription_plans.insert_many(subscription_plans)\n",
    "# db.users_data.insert_many(users_data)\n",
    "# db.gym_locations_data.insert_many(gym_locations_data)\n"
   ]
  },
  {
   "cell_type": "code",
   "execution_count": null,
   "id": "33d72a76-271a-4066-a553-e3faae3f93f9",
   "metadata": {},
   "outputs": [],
   "source": [
    "pipeline = [\n",
    "    {\n",
    "        '$lookup': {\n",
    "            'from': 'gym_locations_data',\n",
    "            'localField': 'gym_id',\n",
    "            'foreignField': 'gym_id',\n",
    "            'as': 'gym_info'\n",
    "        }\n",
    "    },\n",
    "    {\n",
    "        '$unwind': '$gym_info'\n",
    "    },\n",
    "    {\n",
    "        '$lookup': {\n",
    "            'from': 'users_data',\n",
    "            'localField': 'user_id',\n",
    "            'foreignField': 'user_id',\n",
    "            'as': 'user_info'\n",
    "        }\n",
    "    },\n",
    "    {\n",
    "        '$unwind': '$user_info'\n",
    "    },\n",
    "    {\n",
    "        '$lookup': {\n",
    "            'from': 'subscription_plans',\n",
    "            'localField': 'user_info.subscription_plan',\n",
    "            'foreignField': 'subscription_plan',\n",
    "            'as': 'subscription_info'\n",
    "        }\n",
    "    },\n",
    "    {\n",
    "        '$unwind': '$subscription_info'\n",
    "    },\n",
    "    {\n",
    "        '$project': {\n",
    "            '_id': 0,\n",
    "            'checkin_time': 1,\n",
    "            'checkout_time': 1,\n",
    "            'workout_type': 1,\n",
    "            'gym_type': '$gym_info.gym_type',\n",
    "            'subscription_plan': '$user_info.subscription_plan',\n",
    "            'user_id': 1,\n",
    "            'gender': '$user_info.gender'\n",
    "        }\n",
    "    }\n",
    "]\n",
    "\n",
    "results = db.checkin_checkout_history_update.aggregate(pipeline)\n",
    "\n",
    "# Convertir los resultados a una lista\n",
    "results_list = list(results)\n",
    "\n",
    "# Convertir la lista a un DataFrame de pandas\n",
    "df = pd.DataFrame(results_list)\n",
    "\n",
    "\n",
    "# # Imprimir los resultados\n",
    "# for result in results:\n",
    "#     print(result)\n"
   ]
  },
  {
   "cell_type": "code",
   "execution_count": null,
   "id": "dba430dc-1f6f-448c-b0f5-69d50c95cd86",
   "metadata": {},
   "outputs": [],
   "source": [
    "df.head()\n",
    "\n",
    "# Exportar el DataFrame a un archivo CSV\n",
    "df.to_csv('base.csv', index=False)\n",
    "\n",
    "print(\"Datos exportados exitosamente a CSV.\")\n"
   ]
  },
  {
   "cell_type": "code",
   "execution_count": null,
   "id": "249cb7bf-236d-4d83-92e6-204cb1d50083",
   "metadata": {},
   "outputs": [],
   "source": []
  }
 ],
 "metadata": {
  "kernelspec": {
   "display_name": "Python 3 (ipykernel)",
   "language": "python",
   "name": "python3"
  },
  "language_info": {
   "codemirror_mode": {
    "name": "ipython",
    "version": 3
   },
   "file_extension": ".py",
   "mimetype": "text/x-python",
   "name": "python",
   "nbconvert_exporter": "python",
   "pygments_lexer": "ipython3",
   "version": "3.12.4"
  }
 },
 "nbformat": 4,
 "nbformat_minor": 5
}
